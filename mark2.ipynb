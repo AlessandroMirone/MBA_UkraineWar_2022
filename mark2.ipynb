{
  "cells": [
    {
      "cell_type": "markdown",
      "metadata": {
        "id": "view-in-github",
        "colab_type": "text"
      },
      "source": [
        "<a href=\"https://colab.research.google.com/github/AlessandroMirone/MBA_UkraineWar_2022/blob/main/mark2.ipynb\" target=\"_parent\"><img src=\"https://colab.research.google.com/assets/colab-badge.svg\" alt=\"Open In Colab\"/></a>"
      ]
    },
    {
      "cell_type": "code",
      "execution_count": 1,
      "id": "1814588e",
      "metadata": {
        "colab": {
          "base_uri": "https://localhost:8080/"
        },
        "id": "1814588e",
        "outputId": "6ac17e97-8158-4b5b-d467-99fb842b5512"
      },
      "outputs": [
        {
          "output_type": "stream",
          "name": "stdout",
          "text": [
            "Looking in indexes: https://pypi.org/simple, https://us-python.pkg.dev/colab-wheels/public/simple/\n",
            "Collecting pyspark\n",
            "  Downloading pyspark-3.3.1.tar.gz (281.4 MB)\n",
            "\u001b[K     |████████████████████████████████| 281.4 MB 43 kB/s \n",
            "\u001b[?25hCollecting py4j==0.10.9.5\n",
            "  Downloading py4j-0.10.9.5-py2.py3-none-any.whl (199 kB)\n",
            "\u001b[K     |████████████████████████████████| 199 kB 41.8 MB/s \n",
            "\u001b[?25hBuilding wheels for collected packages: pyspark\n",
            "  Building wheel for pyspark (setup.py) ... \u001b[?25l\u001b[?25hdone\n",
            "  Created wheel for pyspark: filename=pyspark-3.3.1-py2.py3-none-any.whl size=281845513 sha256=4c431e71c14f6a3bb91f32787bdee43782607a60b618c55a0fe979d4194a6278\n",
            "  Stored in directory: /root/.cache/pip/wheels/42/59/f5/79a5bf931714dcd201b26025347785f087370a10a3329a899c\n",
            "Successfully built pyspark\n",
            "Installing collected packages: py4j, pyspark\n",
            "Successfully installed py4j-0.10.9.5 pyspark-3.3.1\n"
          ]
        }
      ],
      "source": [
        "!pip install pyspark"
      ]
    },
    {
      "cell_type": "code",
      "execution_count": 2,
      "id": "302e50fb",
      "metadata": {
        "colab": {
          "base_uri": "https://localhost:8080/"
        },
        "id": "302e50fb",
        "outputId": "e0d9430b-2888-4d6c-f180-9ef85af24336"
      },
      "outputs": [
        {
          "output_type": "stream",
          "name": "stdout",
          "text": [
            "Looking in indexes: https://pypi.org/simple, https://us-python.pkg.dev/colab-wheels/public/simple/\n",
            "Requirement already satisfied: kaggle in /usr/local/lib/python3.7/dist-packages (1.5.12)\n",
            "Requirement already satisfied: six>=1.10 in /usr/local/lib/python3.7/dist-packages (from kaggle) (1.15.0)\n",
            "Requirement already satisfied: python-slugify in /usr/local/lib/python3.7/dist-packages (from kaggle) (6.1.2)\n",
            "Requirement already satisfied: tqdm in /usr/local/lib/python3.7/dist-packages (from kaggle) (4.64.1)\n",
            "Requirement already satisfied: urllib3 in /usr/local/lib/python3.7/dist-packages (from kaggle) (1.24.3)\n",
            "Requirement already satisfied: requests in /usr/local/lib/python3.7/dist-packages (from kaggle) (2.23.0)\n",
            "Requirement already satisfied: python-dateutil in /usr/local/lib/python3.7/dist-packages (from kaggle) (2.8.2)\n",
            "Requirement already satisfied: certifi in /usr/local/lib/python3.7/dist-packages (from kaggle) (2022.9.24)\n",
            "Requirement already satisfied: text-unidecode>=1.3 in /usr/local/lib/python3.7/dist-packages (from python-slugify->kaggle) (1.3)\n",
            "Requirement already satisfied: idna<3,>=2.5 in /usr/local/lib/python3.7/dist-packages (from requests->kaggle) (2.10)\n",
            "Requirement already satisfied: chardet<4,>=3.0.2 in /usr/local/lib/python3.7/dist-packages (from requests->kaggle) (3.0.4)\n"
          ]
        }
      ],
      "source": [
        "!pip install kaggle"
      ]
    },
    {
      "cell_type": "code",
      "execution_count": 3,
      "id": "OYc9QokumiPQ",
      "metadata": {
        "colab": {
          "base_uri": "https://localhost:8080/"
        },
        "id": "OYc9QokumiPQ",
        "outputId": "4ab65a1a-b263-460c-adde-da32809d34c9"
      },
      "outputs": [
        {
          "output_type": "stream",
          "name": "stdout",
          "text": [
            "Looking in indexes: https://pypi.org/simple, https://us-python.pkg.dev/colab-wheels/public/simple/\n",
            "Collecting pyspellchecker\n",
            "  Downloading pyspellchecker-0.7.0-py3-none-any.whl (2.5 MB)\n",
            "\u001b[K     |████████████████████████████████| 2.5 MB 5.0 MB/s \n",
            "\u001b[?25hInstalling collected packages: pyspellchecker\n",
            "Successfully installed pyspellchecker-0.7.0\n"
          ]
        }
      ],
      "source": [
        "!pip install pyspellchecker"
      ]
    },
    {
      "cell_type": "code",
      "execution_count": 4,
      "id": "Aoyw4m9_QCG5",
      "metadata": {
        "colab": {
          "base_uri": "https://localhost:8080/"
        },
        "id": "Aoyw4m9_QCG5",
        "outputId": "f9867285-7102-4cdc-f815-297a6d7e0889"
      },
      "outputs": [
        {
          "output_type": "stream",
          "name": "stdout",
          "text": [
            "Looking in indexes: https://pypi.org/simple, https://us-python.pkg.dev/colab-wheels/public/simple/\n",
            "Collecting autocorrect\n",
            "  Downloading autocorrect-2.6.1.tar.gz (622 kB)\n",
            "\u001b[K     |████████████████████████████████| 622 kB 4.8 MB/s \n",
            "\u001b[?25hBuilding wheels for collected packages: autocorrect\n",
            "  Building wheel for autocorrect (setup.py) ... \u001b[?25l\u001b[?25hdone\n",
            "  Created wheel for autocorrect: filename=autocorrect-2.6.1-py3-none-any.whl size=622382 sha256=29d9a692a4a52e64435e43d696e8dc722e67d5170d48fb582bd3cff29252d851\n",
            "  Stored in directory: /root/.cache/pip/wheels/54/d4/37/8244101ad50b0f7d9bffd93ce58ed7991ee1753b290923934b\n",
            "Successfully built autocorrect\n",
            "Installing collected packages: autocorrect\n",
            "Successfully installed autocorrect-2.6.1\n"
          ]
        }
      ],
      "source": [
        "!pip install autocorrect"
      ]
    },
    {
      "cell_type": "code",
      "execution_count": 5,
      "id": "GEDj_jnThIEg",
      "metadata": {
        "colab": {
          "base_uri": "https://localhost:8080/"
        },
        "id": "GEDj_jnThIEg",
        "outputId": "44cd6d91-7944-421d-a46d-75b3a95cc3b2"
      },
      "outputs": [
        {
          "output_type": "stream",
          "name": "stdout",
          "text": [
            "Looking in indexes: https://pypi.org/simple, https://us-python.pkg.dev/colab-wheels/public/simple/\n",
            "Collecting unidecode\n",
            "  Downloading Unidecode-1.3.6-py3-none-any.whl (235 kB)\n",
            "\u001b[K     |████████████████████████████████| 235 kB 5.0 MB/s \n",
            "\u001b[?25hInstalling collected packages: unidecode\n",
            "Successfully installed unidecode-1.3.6\n"
          ]
        }
      ],
      "source": [
        "!pip install unidecode"
      ]
    },
    {
      "cell_type": "code",
      "execution_count": 6,
      "id": "7a557378",
      "metadata": {
        "id": "7a557378"
      },
      "outputs": [],
      "source": [
        "import os\n",
        "import numpy as np\n",
        "import pandas as pd\n",
        "import csv\n",
        "import sys"
      ]
    },
    {
      "cell_type": "code",
      "execution_count": 7,
      "id": "adcf33de",
      "metadata": {
        "colab": {
          "base_uri": "https://localhost:8080/"
        },
        "id": "adcf33de",
        "outputId": "6f674b2a-865a-47e9-9e92-271ff411fd6d"
      },
      "outputs": [
        {
          "output_type": "stream",
          "name": "stdout",
          "text": [
            "Downloading 0905_UkraineCombinedTweetsDeduped.csv.gzip.zip to /content\n",
            "\r  0% 0.00/11.5M [00:00<?, ?B/s]\r 61% 7.00M/11.5M [00:00<00:00, 70.3MB/s]\n",
            "\r100% 11.5M/11.5M [00:00<00:00, 93.8MB/s]\n"
          ]
        }
      ],
      "source": [
        "os.environ[\"KAGGLE_USERNAME\"] = \"alessandromirone\"\n",
        "os.environ[\"KAGGLE_KEY\"] = \"c881e45ce076cb815820c1e582302936\"\n",
        "\n",
        "!kaggle datasets download bwandowando/ukraine-russian-crisis-twitter-dataset-1-2-m-rows -f 0905_UkraineCombinedTweetsDeduped.csv.gzip"
      ]
    },
    {
      "cell_type": "code",
      "execution_count": 8,
      "id": "5943e2da",
      "metadata": {
        "colab": {
          "base_uri": "https://localhost:8080/",
          "height": 219
        },
        "id": "5943e2da",
        "outputId": "b2a9b75e-4eac-448c-b3e9-55aa028981bd"
      },
      "outputs": [
        {
          "output_type": "execute_result",
          "data": {
            "text/plain": [
              "<pyspark.sql.session.SparkSession at 0x7fc16a33f2d0>"
            ],
            "text/html": [
              "\n",
              "            <div>\n",
              "                <p><b>SparkSession - in-memory</b></p>\n",
              "                \n",
              "        <div>\n",
              "            <p><b>SparkContext</b></p>\n",
              "\n",
              "            <p><a href=\"http://localhost:4040\">Spark UI</a></p>\n",
              "\n",
              "            <dl>\n",
              "              <dt>Version</dt>\n",
              "                <dd><code>v3.3.1</code></dd>\n",
              "              <dt>Master</dt>\n",
              "                <dd><code>local[*]</code></dd>\n",
              "              <dt>AppName</dt>\n",
              "                <dd><code>pyspark-shell</code></dd>\n",
              "            </dl>\n",
              "        </div>\n",
              "        \n",
              "            </div>\n",
              "        "
            ]
          },
          "metadata": {},
          "execution_count": 8
        }
      ],
      "source": [
        "#spark context\n",
        "#spark context\n",
        "from pyspark.sql import SparkSession\n",
        "spark = SparkSession.builder.config(\"spark.driver.host\", \"localhost\").config(\"spark.network.timeout\", \"300s\").master(\"local[*]\").config(\"spark.executor.memory\", \"5g\").getOrCreate()\n",
        "sc = spark.sparkContext\n",
        "spark"
      ]
    },
    {
      "cell_type": "code",
      "execution_count": 9,
      "id": "8ff9b5ac",
      "metadata": {
        "colab": {
          "base_uri": "https://localhost:8080/",
          "height": 939
        },
        "id": "8ff9b5ac",
        "outputId": "95582ddb-43cb-4aaa-bb30-0a9e58b9cd3b"
      },
      "outputs": [
        {
          "output_type": "execute_result",
          "data": {
            "text/plain": [
              "                    userid         username  \\\n",
              "0                567289542    Saudi_Gazette   \n",
              "1      1244796162751655936   RussianLadies1   \n",
              "2                161871799  ZacatecasImagen   \n",
              "3       984429894829592576     pulsoguayaco   \n",
              "4               2445145434       Lyobserver   \n",
              "...                    ...              ...   \n",
              "44690  1532665429075935235  NicholasFreshne   \n",
              "44691  1557539843219066882   Ludmila_Volkov   \n",
              "44692  1565837550861828097          Tuchua2   \n",
              "44693             31095945      shaancheema   \n",
              "44694  1511594884113010690  owarino_outsuke   \n",
              "\n",
              "                                                acctdesc           location  \\\n",
              "0      Saudi Gazette is a leading English language da...       Saudi Arabia   \n",
              "1      Russia Ladies is one of the largest and most r...             Russia   \n",
              "2                        El periódico líder en Zacatecas  Zacatecas, México   \n",
              "3      🌐✈Blog de aviación, viajes y economía para via...               🇪🇨🇺🇸   \n",
              "4      The Libya Observer is a key source for compreh...            Tripoli   \n",
              "...                                                  ...                ...   \n",
              "44690  The views, information, or opinions expressed ...                USA   \n",
              "44691                                                NaN                NaN   \n",
              "44692  #staywhitUkraine a small contribution to the e...       Leipzigngerd   \n",
              "44693  I #Am #Zeeshan #Hussain #Equality #Justice (Be...     United Kingdom   \n",
              "44694  There are millions of people and the biggest m...                NaN   \n",
              "\n",
              "       following  followers  totaltweets               usercreatedts  \\\n",
              "0              2     435540       134609  2012-04-30 13:01:28.000000   \n",
              "1            903        412          554  2020-03-31 01:19:00.000000   \n",
              "2            586      23190       178163  2010-07-02 00:48:16.000000   \n",
              "3             75        324        14459  2018-04-12 13:55:51.000000   \n",
              "4             96      77763        60461  2014-04-15 08:59:11.000000   \n",
              "...          ...        ...          ...                         ...   \n",
              "44690          4         15          331  2022-06-03 10:08:29.000000   \n",
              "44691        151         29         4241  2022-08-11 01:30:24.000000   \n",
              "44692         89        579         1241  2022-09-02 23:02:57.000000   \n",
              "44693     114038      54654       193556  2009-04-14 10:34:44.000000   \n",
              "44694         25       1005         2424  2022-04-06 06:41:42.000000   \n",
              "\n",
              "                   tweetid       tweetcreatedts  ...  original_tweet_userid  \\\n",
              "0      1566576845415501824  2022-09-05 00:00:00  ...                      0   \n",
              "1      1566576846745092097  2022-09-05 00:00:00  ...                      0   \n",
              "2      1566576846795411459  2022-09-05 00:00:00  ...                      0   \n",
              "3      1566576847051264002  2022-09-05 00:00:00  ...                      0   \n",
              "4      1566576849035018240  2022-09-05 00:00:01  ...                      0   \n",
              "...                    ...                  ...  ...                    ...   \n",
              "44690  1566939152523972610  2022-09-05 23:59:40  ...                      0   \n",
              "44691  1566939158182076417  2022-09-05 23:59:42  ...                      0   \n",
              "44692  1566939194307612673  2022-09-05 23:59:50  ...                      0   \n",
              "44693  1566939215816007680  2022-09-05 23:59:56  ...                      0   \n",
              "44694  1566939223118458881  2022-09-05 23:59:57  ...                      0   \n",
              "\n",
              "      original_tweet_username in_reply_to_status_id in_reply_to_user_id  \\\n",
              "0                         NaN                     0                   0   \n",
              "1                         NaN                     0                   0   \n",
              "2                         NaN                     0                   0   \n",
              "3                         NaN                     0                   0   \n",
              "4                         NaN                     0                   0   \n",
              "...                       ...                   ...                 ...   \n",
              "44690                     NaN                     0                   0   \n",
              "44691                     NaN                     0                   0   \n",
              "44692                     NaN                     0                   0   \n",
              "44693                     NaN                     0                   0   \n",
              "44694                     NaN                     0                   0   \n",
              "\n",
              "      in_reply_to_screen_name  is_quote_status  quoted_status_id  \\\n",
              "0                         NaN            False                 0   \n",
              "1                         NaN            False                 0   \n",
              "2                         NaN            False                 0   \n",
              "3                         NaN            False                 0   \n",
              "4                         NaN            False                 0   \n",
              "...                       ...              ...               ...   \n",
              "44690                     NaN            False                 0   \n",
              "44691                     NaN            False                 0   \n",
              "44692                     NaN            False                 0   \n",
              "44693                     NaN            False                 0   \n",
              "44694                     NaN            False                 0   \n",
              "\n",
              "       quoted_status_userid  quoted_status_username  \\\n",
              "0                         0                     NaN   \n",
              "1                         0                     NaN   \n",
              "2                         0                     NaN   \n",
              "3                         0                     NaN   \n",
              "4                         0                     NaN   \n",
              "...                     ...                     ...   \n",
              "44690                     0                     NaN   \n",
              "44691                     0                     NaN   \n",
              "44692                     0                     NaN   \n",
              "44693                     0                     NaN   \n",
              "44694                     0                     NaN   \n",
              "\n",
              "                      extractedts  \n",
              "0      2022-09-05 06:22:59.378541  \n",
              "1      2022-09-05 07:15:37.978958  \n",
              "2      2022-09-05 11:31:20.980226  \n",
              "3      2022-09-05 11:31:20.967250  \n",
              "4      2022-09-05 07:15:37.907896  \n",
              "...                           ...  \n",
              "44690  2022-09-06 01:40:18.561582  \n",
              "44691  2022-09-06 01:46:48.566650  \n",
              "44692  2022-09-06 01:46:48.556311  \n",
              "44693  2022-09-06 01:46:48.546007  \n",
              "44694  2022-09-06 01:40:18.520279  \n",
              "\n",
              "[44695 rows x 28 columns]"
            ],
            "text/html": [
              "\n",
              "  <div id=\"df-f8dd3de7-9dbf-4a5d-b860-350ca70d25eb\">\n",
              "    <div class=\"colab-df-container\">\n",
              "      <div>\n",
              "<style scoped>\n",
              "    .dataframe tbody tr th:only-of-type {\n",
              "        vertical-align: middle;\n",
              "    }\n",
              "\n",
              "    .dataframe tbody tr th {\n",
              "        vertical-align: top;\n",
              "    }\n",
              "\n",
              "    .dataframe thead th {\n",
              "        text-align: right;\n",
              "    }\n",
              "</style>\n",
              "<table border=\"1\" class=\"dataframe\">\n",
              "  <thead>\n",
              "    <tr style=\"text-align: right;\">\n",
              "      <th></th>\n",
              "      <th>userid</th>\n",
              "      <th>username</th>\n",
              "      <th>acctdesc</th>\n",
              "      <th>location</th>\n",
              "      <th>following</th>\n",
              "      <th>followers</th>\n",
              "      <th>totaltweets</th>\n",
              "      <th>usercreatedts</th>\n",
              "      <th>tweetid</th>\n",
              "      <th>tweetcreatedts</th>\n",
              "      <th>...</th>\n",
              "      <th>original_tweet_userid</th>\n",
              "      <th>original_tweet_username</th>\n",
              "      <th>in_reply_to_status_id</th>\n",
              "      <th>in_reply_to_user_id</th>\n",
              "      <th>in_reply_to_screen_name</th>\n",
              "      <th>is_quote_status</th>\n",
              "      <th>quoted_status_id</th>\n",
              "      <th>quoted_status_userid</th>\n",
              "      <th>quoted_status_username</th>\n",
              "      <th>extractedts</th>\n",
              "    </tr>\n",
              "  </thead>\n",
              "  <tbody>\n",
              "    <tr>\n",
              "      <th>0</th>\n",
              "      <td>567289542</td>\n",
              "      <td>Saudi_Gazette</td>\n",
              "      <td>Saudi Gazette is a leading English language da...</td>\n",
              "      <td>Saudi Arabia</td>\n",
              "      <td>2</td>\n",
              "      <td>435540</td>\n",
              "      <td>134609</td>\n",
              "      <td>2012-04-30 13:01:28.000000</td>\n",
              "      <td>1566576845415501824</td>\n",
              "      <td>2022-09-05 00:00:00</td>\n",
              "      <td>...</td>\n",
              "      <td>0</td>\n",
              "      <td>NaN</td>\n",
              "      <td>0</td>\n",
              "      <td>0</td>\n",
              "      <td>NaN</td>\n",
              "      <td>False</td>\n",
              "      <td>0</td>\n",
              "      <td>0</td>\n",
              "      <td>NaN</td>\n",
              "      <td>2022-09-05 06:22:59.378541</td>\n",
              "    </tr>\n",
              "    <tr>\n",
              "      <th>1</th>\n",
              "      <td>1244796162751655936</td>\n",
              "      <td>RussianLadies1</td>\n",
              "      <td>Russia Ladies is one of the largest and most r...</td>\n",
              "      <td>Russia</td>\n",
              "      <td>903</td>\n",
              "      <td>412</td>\n",
              "      <td>554</td>\n",
              "      <td>2020-03-31 01:19:00.000000</td>\n",
              "      <td>1566576846745092097</td>\n",
              "      <td>2022-09-05 00:00:00</td>\n",
              "      <td>...</td>\n",
              "      <td>0</td>\n",
              "      <td>NaN</td>\n",
              "      <td>0</td>\n",
              "      <td>0</td>\n",
              "      <td>NaN</td>\n",
              "      <td>False</td>\n",
              "      <td>0</td>\n",
              "      <td>0</td>\n",
              "      <td>NaN</td>\n",
              "      <td>2022-09-05 07:15:37.978958</td>\n",
              "    </tr>\n",
              "    <tr>\n",
              "      <th>2</th>\n",
              "      <td>161871799</td>\n",
              "      <td>ZacatecasImagen</td>\n",
              "      <td>El periódico líder en Zacatecas</td>\n",
              "      <td>Zacatecas, México</td>\n",
              "      <td>586</td>\n",
              "      <td>23190</td>\n",
              "      <td>178163</td>\n",
              "      <td>2010-07-02 00:48:16.000000</td>\n",
              "      <td>1566576846795411459</td>\n",
              "      <td>2022-09-05 00:00:00</td>\n",
              "      <td>...</td>\n",
              "      <td>0</td>\n",
              "      <td>NaN</td>\n",
              "      <td>0</td>\n",
              "      <td>0</td>\n",
              "      <td>NaN</td>\n",
              "      <td>False</td>\n",
              "      <td>0</td>\n",
              "      <td>0</td>\n",
              "      <td>NaN</td>\n",
              "      <td>2022-09-05 11:31:20.980226</td>\n",
              "    </tr>\n",
              "    <tr>\n",
              "      <th>3</th>\n",
              "      <td>984429894829592576</td>\n",
              "      <td>pulsoguayaco</td>\n",
              "      <td>🌐✈Blog de aviación, viajes y economía para via...</td>\n",
              "      <td>🇪🇨🇺🇸</td>\n",
              "      <td>75</td>\n",
              "      <td>324</td>\n",
              "      <td>14459</td>\n",
              "      <td>2018-04-12 13:55:51.000000</td>\n",
              "      <td>1566576847051264002</td>\n",
              "      <td>2022-09-05 00:00:00</td>\n",
              "      <td>...</td>\n",
              "      <td>0</td>\n",
              "      <td>NaN</td>\n",
              "      <td>0</td>\n",
              "      <td>0</td>\n",
              "      <td>NaN</td>\n",
              "      <td>False</td>\n",
              "      <td>0</td>\n",
              "      <td>0</td>\n",
              "      <td>NaN</td>\n",
              "      <td>2022-09-05 11:31:20.967250</td>\n",
              "    </tr>\n",
              "    <tr>\n",
              "      <th>4</th>\n",
              "      <td>2445145434</td>\n",
              "      <td>Lyobserver</td>\n",
              "      <td>The Libya Observer is a key source for compreh...</td>\n",
              "      <td>Tripoli</td>\n",
              "      <td>96</td>\n",
              "      <td>77763</td>\n",
              "      <td>60461</td>\n",
              "      <td>2014-04-15 08:59:11.000000</td>\n",
              "      <td>1566576849035018240</td>\n",
              "      <td>2022-09-05 00:00:01</td>\n",
              "      <td>...</td>\n",
              "      <td>0</td>\n",
              "      <td>NaN</td>\n",
              "      <td>0</td>\n",
              "      <td>0</td>\n",
              "      <td>NaN</td>\n",
              "      <td>False</td>\n",
              "      <td>0</td>\n",
              "      <td>0</td>\n",
              "      <td>NaN</td>\n",
              "      <td>2022-09-05 07:15:37.907896</td>\n",
              "    </tr>\n",
              "    <tr>\n",
              "      <th>...</th>\n",
              "      <td>...</td>\n",
              "      <td>...</td>\n",
              "      <td>...</td>\n",
              "      <td>...</td>\n",
              "      <td>...</td>\n",
              "      <td>...</td>\n",
              "      <td>...</td>\n",
              "      <td>...</td>\n",
              "      <td>...</td>\n",
              "      <td>...</td>\n",
              "      <td>...</td>\n",
              "      <td>...</td>\n",
              "      <td>...</td>\n",
              "      <td>...</td>\n",
              "      <td>...</td>\n",
              "      <td>...</td>\n",
              "      <td>...</td>\n",
              "      <td>...</td>\n",
              "      <td>...</td>\n",
              "      <td>...</td>\n",
              "      <td>...</td>\n",
              "    </tr>\n",
              "    <tr>\n",
              "      <th>44690</th>\n",
              "      <td>1532665429075935235</td>\n",
              "      <td>NicholasFreshne</td>\n",
              "      <td>The views, information, or opinions expressed ...</td>\n",
              "      <td>USA</td>\n",
              "      <td>4</td>\n",
              "      <td>15</td>\n",
              "      <td>331</td>\n",
              "      <td>2022-06-03 10:08:29.000000</td>\n",
              "      <td>1566939152523972610</td>\n",
              "      <td>2022-09-05 23:59:40</td>\n",
              "      <td>...</td>\n",
              "      <td>0</td>\n",
              "      <td>NaN</td>\n",
              "      <td>0</td>\n",
              "      <td>0</td>\n",
              "      <td>NaN</td>\n",
              "      <td>False</td>\n",
              "      <td>0</td>\n",
              "      <td>0</td>\n",
              "      <td>NaN</td>\n",
              "      <td>2022-09-06 01:40:18.561582</td>\n",
              "    </tr>\n",
              "    <tr>\n",
              "      <th>44691</th>\n",
              "      <td>1557539843219066882</td>\n",
              "      <td>Ludmila_Volkov</td>\n",
              "      <td>NaN</td>\n",
              "      <td>NaN</td>\n",
              "      <td>151</td>\n",
              "      <td>29</td>\n",
              "      <td>4241</td>\n",
              "      <td>2022-08-11 01:30:24.000000</td>\n",
              "      <td>1566939158182076417</td>\n",
              "      <td>2022-09-05 23:59:42</td>\n",
              "      <td>...</td>\n",
              "      <td>0</td>\n",
              "      <td>NaN</td>\n",
              "      <td>0</td>\n",
              "      <td>0</td>\n",
              "      <td>NaN</td>\n",
              "      <td>False</td>\n",
              "      <td>0</td>\n",
              "      <td>0</td>\n",
              "      <td>NaN</td>\n",
              "      <td>2022-09-06 01:46:48.566650</td>\n",
              "    </tr>\n",
              "    <tr>\n",
              "      <th>44692</th>\n",
              "      <td>1565837550861828097</td>\n",
              "      <td>Tuchua2</td>\n",
              "      <td>#staywhitUkraine a small contribution to the e...</td>\n",
              "      <td>Leipzigngerd</td>\n",
              "      <td>89</td>\n",
              "      <td>579</td>\n",
              "      <td>1241</td>\n",
              "      <td>2022-09-02 23:02:57.000000</td>\n",
              "      <td>1566939194307612673</td>\n",
              "      <td>2022-09-05 23:59:50</td>\n",
              "      <td>...</td>\n",
              "      <td>0</td>\n",
              "      <td>NaN</td>\n",
              "      <td>0</td>\n",
              "      <td>0</td>\n",
              "      <td>NaN</td>\n",
              "      <td>False</td>\n",
              "      <td>0</td>\n",
              "      <td>0</td>\n",
              "      <td>NaN</td>\n",
              "      <td>2022-09-06 01:46:48.556311</td>\n",
              "    </tr>\n",
              "    <tr>\n",
              "      <th>44693</th>\n",
              "      <td>31095945</td>\n",
              "      <td>shaancheema</td>\n",
              "      <td>I #Am #Zeeshan #Hussain #Equality #Justice (Be...</td>\n",
              "      <td>United Kingdom</td>\n",
              "      <td>114038</td>\n",
              "      <td>54654</td>\n",
              "      <td>193556</td>\n",
              "      <td>2009-04-14 10:34:44.000000</td>\n",
              "      <td>1566939215816007680</td>\n",
              "      <td>2022-09-05 23:59:56</td>\n",
              "      <td>...</td>\n",
              "      <td>0</td>\n",
              "      <td>NaN</td>\n",
              "      <td>0</td>\n",
              "      <td>0</td>\n",
              "      <td>NaN</td>\n",
              "      <td>False</td>\n",
              "      <td>0</td>\n",
              "      <td>0</td>\n",
              "      <td>NaN</td>\n",
              "      <td>2022-09-06 01:46:48.546007</td>\n",
              "    </tr>\n",
              "    <tr>\n",
              "      <th>44694</th>\n",
              "      <td>1511594884113010690</td>\n",
              "      <td>owarino_outsuke</td>\n",
              "      <td>There are millions of people and the biggest m...</td>\n",
              "      <td>NaN</td>\n",
              "      <td>25</td>\n",
              "      <td>1005</td>\n",
              "      <td>2424</td>\n",
              "      <td>2022-04-06 06:41:42.000000</td>\n",
              "      <td>1566939223118458881</td>\n",
              "      <td>2022-09-05 23:59:57</td>\n",
              "      <td>...</td>\n",
              "      <td>0</td>\n",
              "      <td>NaN</td>\n",
              "      <td>0</td>\n",
              "      <td>0</td>\n",
              "      <td>NaN</td>\n",
              "      <td>False</td>\n",
              "      <td>0</td>\n",
              "      <td>0</td>\n",
              "      <td>NaN</td>\n",
              "      <td>2022-09-06 01:40:18.520279</td>\n",
              "    </tr>\n",
              "  </tbody>\n",
              "</table>\n",
              "<p>44695 rows × 28 columns</p>\n",
              "</div>\n",
              "      <button class=\"colab-df-convert\" onclick=\"convertToInteractive('df-f8dd3de7-9dbf-4a5d-b860-350ca70d25eb')\"\n",
              "              title=\"Convert this dataframe to an interactive table.\"\n",
              "              style=\"display:none;\">\n",
              "        \n",
              "  <svg xmlns=\"http://www.w3.org/2000/svg\" height=\"24px\"viewBox=\"0 0 24 24\"\n",
              "       width=\"24px\">\n",
              "    <path d=\"M0 0h24v24H0V0z\" fill=\"none\"/>\n",
              "    <path d=\"M18.56 5.44l.94 2.06.94-2.06 2.06-.94-2.06-.94-.94-2.06-.94 2.06-2.06.94zm-11 1L8.5 8.5l.94-2.06 2.06-.94-2.06-.94L8.5 2.5l-.94 2.06-2.06.94zm10 10l.94 2.06.94-2.06 2.06-.94-2.06-.94-.94-2.06-.94 2.06-2.06.94z\"/><path d=\"M17.41 7.96l-1.37-1.37c-.4-.4-.92-.59-1.43-.59-.52 0-1.04.2-1.43.59L10.3 9.45l-7.72 7.72c-.78.78-.78 2.05 0 2.83L4 21.41c.39.39.9.59 1.41.59.51 0 1.02-.2 1.41-.59l7.78-7.78 2.81-2.81c.8-.78.8-2.07 0-2.86zM5.41 20L4 18.59l7.72-7.72 1.47 1.35L5.41 20z\"/>\n",
              "  </svg>\n",
              "      </button>\n",
              "      \n",
              "  <style>\n",
              "    .colab-df-container {\n",
              "      display:flex;\n",
              "      flex-wrap:wrap;\n",
              "      gap: 12px;\n",
              "    }\n",
              "\n",
              "    .colab-df-convert {\n",
              "      background-color: #E8F0FE;\n",
              "      border: none;\n",
              "      border-radius: 50%;\n",
              "      cursor: pointer;\n",
              "      display: none;\n",
              "      fill: #1967D2;\n",
              "      height: 32px;\n",
              "      padding: 0 0 0 0;\n",
              "      width: 32px;\n",
              "    }\n",
              "\n",
              "    .colab-df-convert:hover {\n",
              "      background-color: #E2EBFA;\n",
              "      box-shadow: 0px 1px 2px rgba(60, 64, 67, 0.3), 0px 1px 3px 1px rgba(60, 64, 67, 0.15);\n",
              "      fill: #174EA6;\n",
              "    }\n",
              "\n",
              "    [theme=dark] .colab-df-convert {\n",
              "      background-color: #3B4455;\n",
              "      fill: #D2E3FC;\n",
              "    }\n",
              "\n",
              "    [theme=dark] .colab-df-convert:hover {\n",
              "      background-color: #434B5C;\n",
              "      box-shadow: 0px 1px 3px 1px rgba(0, 0, 0, 0.15);\n",
              "      filter: drop-shadow(0px 1px 2px rgba(0, 0, 0, 0.3));\n",
              "      fill: #FFFFFF;\n",
              "    }\n",
              "  </style>\n",
              "\n",
              "      <script>\n",
              "        const buttonEl =\n",
              "          document.querySelector('#df-f8dd3de7-9dbf-4a5d-b860-350ca70d25eb button.colab-df-convert');\n",
              "        buttonEl.style.display =\n",
              "          google.colab.kernel.accessAllowed ? 'block' : 'none';\n",
              "\n",
              "        async function convertToInteractive(key) {\n",
              "          const element = document.querySelector('#df-f8dd3de7-9dbf-4a5d-b860-350ca70d25eb');\n",
              "          const dataTable =\n",
              "            await google.colab.kernel.invokeFunction('convertToInteractive',\n",
              "                                                     [key], {});\n",
              "          if (!dataTable) return;\n",
              "\n",
              "          const docLinkHtml = 'Like what you see? Visit the ' +\n",
              "            '<a target=\"_blank\" href=https://colab.research.google.com/notebooks/data_table.ipynb>data table notebook</a>'\n",
              "            + ' to learn more about interactive tables.';\n",
              "          element.innerHTML = '';\n",
              "          dataTable['output_type'] = 'display_data';\n",
              "          await google.colab.output.renderOutput(dataTable, element);\n",
              "          const docLink = document.createElement('div');\n",
              "          docLink.innerHTML = docLinkHtml;\n",
              "          element.appendChild(docLink);\n",
              "        }\n",
              "      </script>\n",
              "    </div>\n",
              "  </div>\n",
              "  "
            ]
          },
          "metadata": {},
          "execution_count": 9
        }
      ],
      "source": [
        "#load zipped file in environment\n",
        "from zipfile import ZipFile\n",
        "with ZipFile('0905_UkraineCombinedTweetsDeduped.csv.gzip.zip', 'r') as zip:\n",
        "    zip.extractall()\n",
        "filename = r'0905_UkraineCombinedTweetsDeduped.csv.gzip'\n",
        "df = pd.read_csv(filename, compression='gzip', index_col=0,encoding='utf-8', quoting=csv.QUOTE_ALL)\n",
        "df"
      ]
    },
    {
      "cell_type": "code",
      "source": [
        "test = df.text[df.language == 'en']"
      ],
      "metadata": {
        "id": "qlRsKQJqdbFc"
      },
      "id": "qlRsKQJqdbFc",
      "execution_count": null,
      "outputs": []
    },
    {
      "cell_type": "code",
      "execution_count": 10,
      "id": "bda0b278",
      "metadata": {
        "colab": {
          "base_uri": "https://localhost:8080/"
        },
        "id": "bda0b278",
        "outputId": "d17e7d83-55c7-4737-c0fb-b94c83a6e40d"
      },
      "outputs": [
        {
          "output_type": "execute_result",
          "data": {
            "text/plain": [
              "Index(['userid', 'username', 'acctdesc', 'location', 'following', 'followers',\n",
              "       'totaltweets', 'usercreatedts', 'tweetid', 'tweetcreatedts',\n",
              "       'retweetcount', 'text', 'hashtags', 'language', 'coordinates',\n",
              "       'favorite_count', 'is_retweet', 'original_tweet_id',\n",
              "       'original_tweet_userid', 'original_tweet_username',\n",
              "       'in_reply_to_status_id', 'in_reply_to_user_id',\n",
              "       'in_reply_to_screen_name', 'is_quote_status', 'quoted_status_id',\n",
              "       'quoted_status_userid', 'quoted_status_username', 'extractedts'],\n",
              "      dtype='object')"
            ]
          },
          "metadata": {},
          "execution_count": 10
        }
      ],
      "source": [
        "df.columns"
      ]
    },
    {
      "cell_type": "code",
      "execution_count": 11,
      "id": "c3b6f11f",
      "metadata": {
        "colab": {
          "base_uri": "https://localhost:8080/"
        },
        "id": "c3b6f11f",
        "outputId": "455948dd-051a-4494-ff20-f271dcf0df7a"
      },
      "outputs": [
        {
          "output_type": "execute_result",
          "data": {
            "text/plain": [
              "array(['en', 'es', 'ja', 'ar', 'no', 'uk', 'und', 'ru', 'zh', 'de', 'da',\n",
              "       'it', 'vi', 'fr', 'pt', 'kn', 'ka', 'et', 'iw', 'in', 'lt', 'el',\n",
              "       'fi', 'hi', 'is', 'th', 'nl', 'ca', 'eu', 'gu', 'pl', 'cy', 'tr',\n",
              "       'bg', 'ro', 'lv', 'sv', 'ur', 'tl', 'sr', 'ta', 'ko', 'cs', 'ht',\n",
              "       'fa', 'te', 'am', 'hu', 'bn', 'ml', 'mr', 'my', 'sl', 'ckb', 'ps',\n",
              "       'or', 'pa', 'ne', 'hy'], dtype=object)"
            ]
          },
          "metadata": {},
          "execution_count": 11
        }
      ],
      "source": [
        "pd.unique(df.language) #many languages, only english texts will be considered"
      ]
    },
    {
      "cell_type": "code",
      "execution_count": 12,
      "id": "a30b639b",
      "metadata": {
        "colab": {
          "base_uri": "https://localhost:8080/"
        },
        "id": "a30b639b",
        "outputId": "6eee529a-6d64-49bf-b638-f979a55e05c7",
        "scrolled": false
      },
      "outputs": [
        {
          "output_type": "execute_result",
          "data": {
            "text/plain": [
              "[\"“#Ukrainian President, Volodymyr #Zelenskyy has praised the work of the #Ukrainian Air Force for downing #Russian Kalibr cruise missiles, a helicopter and drones and vowed to do all to fully defend #Ukraine's skies from enemy missiles and aircraft.”https://t.co/kyZ8eGUGPp\",\n",
              " 'I SUPPORT UKRAINE 🇺🇦\\n\\nSTOP THE WAR\\n\\n#SlavaUkraini #StopRussia #StopPutin #PutinWarCriminal #NFT #NFTCommunity #LGBTQ #nftcollector #cryptoartist #NFTs #wezenaar #rickwezenaar https://t.co/sUu4PyKU9a',\n",
              " '@LPNH ooh, another #Pedoputin fondler\\n\\n#RussiaIsATerroristState #RussiaIsANaziState #NAFO',\n",
              " 'Ukrainian military in Olhyne of #Kherson region https://t.co/hxroD3wmQQ https://t.co/hxroD3wmQQ https://t.co/8YYN3s6uza',\n",
              " 'fuck a stock of laughing for Terrorist   #CIA #FBI #NATO #Cop #Cops #Police #Marines #Army #AirForce #Navy #News #BreakingNews #Worldnews #freemason #freemasons #Freemasonry',\n",
              " '#Russia to present next week in Geneva documented evidence of violations by US, #Ukraine of convention on bioweapons, the Russian Ministry of Defense says.',\n",
              " 'Beautiful #Mariupol before Putin Russified it \\n#RussiaTerroristState #visabanforrussians \\nRussia needs to pay to rebuild when it is returned to Ukraine https://t.co/UK4ecm9lyZ',\n",
              " '@oneillquigley @RueDaungier @jimfitzpatrick Sure in that case we should have never fought British Empire, or world faced down Hitler.\\n\\nNaysayers said same back then, you know.\\n\\nZelensky, Churchill and Collins are &amp; were better than the naysayers, just hope Zelenskyy wont do a Collins and accept partition of #Ukraine',\n",
              " '#stranger #RuizOrtiz #Kherson  #BORNPINK #NCT127 #clowns 1 \\n\\nif you see a 🤡 is standing behind you in this bridge, what you will do ? https://t.co/GzXYMoUy3k',\n",
              " '@apmassaro3 @Mamulashvili_M @georgian_legion Thank you @georgian_legion ! For all your amazing work in #Ukraine!',\n",
              " 'How’s that #Kherson offensive going?\\n\\nDo they need more money yet?',\n",
              " 'The #RussiaUkraine war could have been potentially avoided if meaningful negotiations were undertaken and some of #Russia’s security concerns were addressed, opines Sammad Grover https://t.co/L1g76ay9Hr',\n",
              " '“As requested by incumbent President.” \\n\\nWe thought Biden wasn’t aware of any of this? \\n\\n#FBI #Biden #Trump #LaborDay2022 https://t.co/9v09jax4Pz',\n",
              " \"✅Food delivery to the most indigent districts of Kharkiv;\\n✅Preparation for the evacuation of elderly and mothers with children;\\n✅Collecting the evidence of russia's war crimes,\\n-our day in Kharkiv in a nutshell.\\n@NeilCamilleri5 https://t.co/GMN52k6ZO4\",\n",
              " '#Gazprom announced on Friday evening an indefinite shutdown of #NordStream 1 gas pipeline. This seems to be in response to G7 decision to impose a price cap on #Russian oil.\\n#UkraineRussiaWar',\n",
              " '5/5\\nVladimir Putin decided that #Russia do not need to sell it gas to Europe to survive. It is Europe that need Russian gas and not the other way round. Putin just trampled on the usual arrogance of Western hegemony. Good move Putin! Good move!!!\\n\\n @georgegalloway @RusEmbNigeria https://t.co/8ciVnMk6Ic',\n",
              " 'A russian military man in Kharkiv Region says in an intercepted conversation that they are facing a difficult situation. #standwithukraine #Ukraine #Ukrainians #SlavaUkraini #ArmUkraine #UkraineArmy #war #Ukrainewar \\n#Warcrimes https://t.co/zpyeZWwOJb',\n",
              " '🇺🇦💪Two combat #Ukrainian aircraft at super low altitude.\\n#Ukraine #UkraineWar #UkraineRussianWar #UkraineWillWin #Ukraina #UkrainianArmy #UkraineRussiaWar https://t.co/le7rTZoa7W',\n",
              " 'Fresh losses in the command staff of the Armed Forces of Ukraine:\\n\\n1. Colonel Andrei Omelchenko\\n2. Lieutenant Colonel Alexander Kapuchin\\n\\n#Ukraine #Russia #UkraineRussia #UkrainianArmy https://t.co/pYDda3wfLs',\n",
              " 'English Shield Watch Fob St... https://t.co/gwNEcSqDfi via @topbananamall fab @topbananaantiques #dogsoftwitter #antiquejewllery #gardensoftwitter  #StandWithUkraine #antiquesilver #stopclimatechange #antiquepictures #celebritymasterchef #gardenersworld',\n",
              " '@DanKaszeta #Ukraine regardless of which. The training must be much better than that the Russian troops get. You only have to look at recent results. Just pack your toilets, washing machines and anything else you have looted and go home.',\n",
              " 'Ukraine’s army destroys a BC warehouse in the temporarily occupied Balakliya in the Kharkiv region\\n\\n#Ukraine #RussiaIsANaziState https://t.co/ua3Vqdw5II',\n",
              " 'PUTIN ‘MYSTERY LIMP’: IS RUSSIA’S PRESIDENT REALLY DYING? | PUTIN’S HEALTH ANALYSED \\nRussia-Ukraine NATO War Latest News 2022 \\n#Putin #Russia #Ukraine #NATO #RussianArmy #Russian #Russians #UkraineRussiaWar #UkraineWar #RussiaUkraineWar #UkrainianArmy\\nhttps://t.co/M6qdrGt5ts',\n",
              " '@Kalimeralynn @sophielouisecc #Russia is losing so get nato to go in and stop the war on #UkraineRussiaWar ..our lives go back to normal after victory ...unless they are lying hahaha..',\n",
              " 'Video most likely from #Kherson \\nRussian and Ukrainian sources claiming this to be a successful attack of there own.\\n\\n#counteroffensive https://t.co/dyQrMBDLXU',\n",
              " '#UkraineRussiaWar #5September \\n-Ukrainian forces from the 79th Air Assault Brigade reportedly repelled a Russian attack and captured several Russian soldiers from the separate 1st Motor Rifle Brigade\\n-Several Russian vehicles were captured by Ukrainian forces\\n#BREAKING https://t.co/bXg9FY2kfw',\n",
              " '@RussianEmbassy @mfa_russia @RusEmbUSA @RusMission_EU @FCDOGovUK @BBCWorld @SkyNews @guardian @Telegraph @FinancialTimes @TheEconomist Absolutely right. As soon as there is a change of power in Ruzzia that resembles something of a state that values human beings, we will then return to help you. Putin and his gangster cronies must leave, including you #Lavrov',\n",
              " '@bmay He is a Agent of the #Russian State and a #Traitor',\n",
              " '🇷🇺🇺🇦#UkraineRussiaWar Update: https://t.co/xZPnXJoSfP',\n",
              " '4 MEDIA CONFIRMATIONS to #Psychic #Predictions for #VladimirPutin - #France accuses #Russia over #gas supply as #Nordstream2 shutdown, Chief of #Russian #oil giant #Lukoil, critical of #Putin’s war, dies after falling out of hospital window,..in the #ebook\\nhttps://t.co/27qVUhgUCb',\n",
              " 'Forever dreaming. #russia #saveukraine🇺🇦🙏 https://t.co/nudrLFvoDW',\n",
              " 'ISIS militants claim responsibility for attack near Russian embassy in Kabul.\\n\\n#Kabul #Russia #ISIS',\n",
              " '😂Not Alamo dump. But ammo dump. #ukraine #UkraineRussianWar #RussiaIsATerroristState',\n",
              " 'Using #Ukraine to fight their #ProxyWar against #Russia, NATO has potentially started WW3. This war will spread unless citizens vote out their war-loving leaders. https://t.co/N1UFDRhyGa',\n",
              " 'When \"#Stalinist|s\" post something about the West\\'s \"military industrial complex\" I wonder if they are aware of the ration of government spending for military purposes in #Russia, technically the largest army in the world, &amp; an overall living standard below development countries.',\n",
              " '@TreasChest no word may help now, so our thoughts are with you...\\n#SlavaUkraini',\n",
              " '@PhillipsPOBrien Wear a sweater and keep the German nuclear plants open until Russia collapses upon itself.  STOP ALL RUSSIAN TOURIST VISAS.  Seize all Russian villas, apartments and country estates, including those hiding behind “beneficial ownership” structures.  #SlavaUkraini',\n",
              " 'joe biden 46 shirt, Joe Bidden President 2020, The 46th Be  Biden, Joe Biden T-Shirts, Biden 2020, Riding Unicorn, Biden on a Blue Unicorn\\n #JoeBidden #be #Tshirts #Unicorn #joe #JoeBiden #RidingUnicornBiden #biden #PlusMinusCo\\nhttps://t.co/5kr2OHTSeZ',\n",
              " \"https://t.co/CtKpUg4iNS\\n\\nConsumer Discretionary stocks are well represented in our Early Morning Movers Bearish scan. Some examples, \\nnot recommendations are: $BABA, $EXPE, $CROX, $PDD, $DASH, $CPRI. Let's see if they continue to\\nfall today. #RIPKK, $AAPL, #Russia https://t.co/2BhVf7l8Ms\",\n",
              " 'Magnifique ! #Ukraine «\\xa0Born To Be Free\\xa0» https://t.co/ezcsb6fJI5',\n",
              " '⚡️ Air defense engaging aerial targets in Vinnytsia region.\\n#UkraineRussiaWar',\n",
              " 'Now #coffee for the #Mexico produced in Russia! Due to cheap electricity, gas, and labor in #Russia, it is more profitable to shipping coffee from Brazil to Russia, roast coffee, send it to Mexico. AND IT WILL BE MORE PROFITABLE than producing such coffee in Mexico!\\n#food https://t.co/qBoMPd0jai',\n",
              " '🇬🇧 I was just announced that #liztruss is the new #primeminester of the #UK Congratulations @trussliz ‼️#Ukraine looks forward to working with you. #LizTruss #LizForLeader https://t.co/KKy4YO8vzd',\n",
              " 'https://t.co/xxvroOMsgx\\n\\U0001fae2 2nd greates military power my ass \\U0001f90c🤡',\n",
              " 'Do the Taliban regret blowing up the Bamiyan Buddhas? New government takes steps to ... https://t.co/IEkckOEkqS #war #terror #islamicstate',\n",
              " '@laurenboebert Cry me a river … #Conmantrumps sons room was searched because no one is off limits when searching a #FelonTrump potentially selling secrets to #Putin #China adversaries!',\n",
              " '@WallStreetSilv THAT is exactly what WE should be doing now...a new PM wont stop the verbal diarrhoea..if anything it will get worse...#GTTO \\n#ToriesOut60\\n#JohnsonOut224 \\n#StandWithUkraine 🇺🇦#RwandaNotInMyName\\n#TorySewageParty',\n",
              " '@ivan_8848 there will be an exodus, possibly millions\\n#Ukraine #Russia',\n",
              " 'Not using Russian gas is good for the climate.\\n\\n#ClimateCrisis #UkraineRussiaWar',\n",
              " '#BREAKING \\nRussian court jails ex-reporter #IvanSafronov for 22 years for treason \\n\\n#AFP #Moscow #Russia https://t.co/Itu0xswBg9']"
            ]
          },
          "metadata": {},
          "execution_count": 12
        }
      ],
      "source": [
        "rdd = sc.parallelize(df.text[df.language == 'en'].sample(n=500,random_state=33))\n",
        "rdd.take(50)"
      ]
    },
    {
      "cell_type": "markdown",
      "id": "57b9e110",
      "metadata": {
        "id": "57b9e110"
      },
      "source": [
        "### Preprocessing"
      ]
    },
    {
      "cell_type": "code",
      "execution_count": 13,
      "id": "bmzr31WBWeqp",
      "metadata": {
        "id": "bmzr31WBWeqp"
      },
      "outputs": [],
      "source": [
        "import regex as re\n",
        "from autocorrect import Speller\n",
        "import unidecode\n",
        "from string import punctuation"
      ]
    },
    {
      "cell_type": "code",
      "execution_count": 14,
      "id": "mRReII8btGz3",
      "metadata": {
        "colab": {
          "base_uri": "https://localhost:8080/"
        },
        "id": "mRReII8btGz3",
        "outputId": "92b0ecfa-76ac-41b6-ce6e-fff2aa40cd08"
      },
      "outputs": [
        {
          "output_type": "stream",
          "name": "stderr",
          "text": [
            "[nltk_data] Downloading package omw-1.4 to /root/nltk_data...\n",
            "[nltk_data] Downloading package wordnet to /root/nltk_data...\n",
            "[nltk_data] Downloading package stopwords to /root/nltk_data...\n",
            "[nltk_data]   Unzipping corpora/stopwords.zip.\n",
            "[nltk_data] Downloading package averaged_perceptron_tagger to\n",
            "[nltk_data]     /root/nltk_data...\n",
            "[nltk_data]   Unzipping taggers/averaged_perceptron_tagger.zip.\n"
          ]
        }
      ],
      "source": [
        "import nltk\n",
        "nltk.download('omw-1.4')\n",
        "from nltk.stem import WordNetLemmatizer\n",
        "nltk.download('wordnet')\n",
        "lemma = WordNetLemmatizer()\n",
        "from nltk.corpus import stopwords \n",
        "nltk.download(\"stopwords\")\n",
        "stop_words = stopwords.words(\"english\")\n",
        "nltk.download('averaged_perceptron_tagger')\n",
        "from nltk.corpus import wordnet as wn"
      ]
    },
    {
      "cell_type": "code",
      "source": [
        "def get_wordnet_pos(treebank_tag):\n",
        "    from nltk.corpus import wordnet\n",
        "\n",
        "    if treebank_tag.startswith('J'):\n",
        "        return wordnet.ADJ\n",
        "    elif treebank_tag.startswith('V'):\n",
        "        return wordnet.VERB\n",
        "    elif treebank_tag.startswith('N'):\n",
        "        return wordnet.NOUN\n",
        "    elif treebank_tag.startswith('R'):\n",
        "        return wordnet.ADV\n",
        "    else:\n",
        "        return None"
      ],
      "metadata": {
        "id": "g5uTDrsAq9Ra"
      },
      "id": "g5uTDrsAq9Ra",
      "execution_count": 15,
      "outputs": []
    },
    {
      "cell_type": "code",
      "execution_count": 16,
      "id": "CxNr8igjWoVq",
      "metadata": {
        "id": "CxNr8igjWoVq"
      },
      "outputs": [],
      "source": [
        "def cleantxt(x):\n",
        "    res = x.lower() #lowercase\n",
        "    \n",
        "    res = re.sub(r'<.*?>','',res) #remove html tags\n",
        "   \n",
        "    res = re.sub(r'https?://\\S+|www\\.\\S+', '', res) #remove URLs\n",
        "    \n",
        "    res = re.sub(r'\\d+', '', res) #remove numbers\n",
        "   \n",
        "    res = unidecode.unidecode(res) #convert accented characters to ascii characters\n",
        "    \n",
        "    emoji_char = re.compile(\"[\" \n",
        "                               u\"\\U0001F600-\\U0001F64F\"  # emojis\n",
        "                               u\"\\U0001F300-\\U0001F5FF\"  # symbols & pictographs\n",
        "                               u\"\\U0001F680-\\U0001F6FF\"  # transport & map symbols\n",
        "                               u\"\\U0001F1E0-\\U0001F1FF\"  # flags (iOS)\n",
        "                               u\"\\U00002500-\\U00002BEF\"  # chinese char\n",
        "                               u\"\\U00002702-\\U000027B0\"\n",
        "                               u\"\\U00002702-\\U000027B0\"\n",
        "                               u\"\\U000024C2-\\U0001F251\"\n",
        "                               u\"\\U0001f926-\\U0001f937\"\n",
        "                               u\"\\U00010000-\\U0010ffff\"\n",
        "                               u\"\\u2640-\\u2642\"\n",
        "                               u\"\\u2600-\\u2B55\"\n",
        "                               u\"\\u200d\"\n",
        "                               u\"\\u23cf\"\n",
        "                               u\"\\u23e9\"\n",
        "                               u\"\\u231a\"\n",
        "                               u\"\\ufe0f\"  # dingbats\n",
        "                               u\"\\u3030\"\n",
        "                               \"]+\", flags=re.UNICODE) \n",
        "    res = emoji_char.sub(r'',res) #remove emojis, pictographs and other unusual characters\n",
        "\n",
        "    res = re.sub(\"&amp\", \"and\", res).replace(\"\\n\", \" \") #remove refuses due to encoding \n",
        "\n",
        "    res = res.translate(str.maketrans('', '', punctuation)) #remove punctuation \n",
        "\n",
        "    pattern = re.compile(r'\\b(' + r'|'.join(stopwords.words('english')) + r')\\b\\s*') #remove stopwords\n",
        "    res = pattern.sub('', res)\n",
        "\n",
        "    res = re.sub('\\s+',\" \", res) #remove whitespaces\n",
        "\n",
        "    spell_corrector = Speller(lang='en') #corrector NOTE: this is an english corrector: as a result, some slavic names may be changed\n",
        "    res = spell_corrector(res)\n",
        "               \n",
        "    \n",
        "    return res\n",
        "\n",
        "    \n",
        "\n",
        "    "
      ]
    },
    {
      "cell_type": "code",
      "execution_count": 17,
      "id": "tcbGxJJCWsKO",
      "metadata": {
        "colab": {
          "base_uri": "https://localhost:8080/"
        },
        "id": "tcbGxJJCWsKO",
        "outputId": "b3cf6c76-bd8e-4acb-f9f2-e2e3e95af264"
      },
      "outputs": [
        {
          "output_type": "execute_result",
          "data": {
            "text/plain": [
              "['ukrainian president volodymyr zelenskyy praised work ukrainian air force downing russian caliber cruise missiles helicopter drones vowed fully defend ukraine skies enemy missiles aircraft',\n",
              " 'support ukraine stop war slavaukraini stoprussia stopputin putinwarcriminal nft nftcommunity lgbtq nftcollector cryptoartist nts wezenaar rickwezenaar ',\n",
              " 'link ooh another pedoputin founder russiaisaterroriststate russiaisanazistate nano',\n",
              " 'ukrainian military ohne person region ',\n",
              " 'fuck stock laughing terrorist cia fbi nato cop cops police marines army airforce navy news breakingnews worldnews freeman freemasonry freemasonry',\n",
              " 'russia present next week geneva documented evidence violations us ukraine convention bioweapons russian ministry defense says',\n",
              " 'beautiful mariupol putin justified russiaterroriststate visabanforrussians russia needs pay rebuild returned ukraine ',\n",
              " 'oneillquigley ruedaungier jimfitzpatrick sure case never fought british empire world faced hitler naysayers said back know zelensky churchill collins better naysayers hope zelenskyy wont collins accept partition ukraine',\n",
              " 'stranger ruizortiz person bornpink not clowns see standing behind bridge ',\n",
              " 'apmassaro mamulashvilim georgianlegion thank georgianlegion amazing work ukraine',\n",
              " 'how person offensive going need money yet',\n",
              " 'russiaukraine war could potentially avoided meaningful negotiations undertaken russias security concerns addressed spines ammad grove ',\n",
              " 'requested incumbent president thought biden wasnt aware fbi biden trump laborday ',\n",
              " 'food delivery incident districts khaki preparation evacuation elderly mothers children collecting evidence russias war crimes day khaki nutshell neilcamilleri ',\n",
              " 'gazprom announced friday evening indefinite shutdown nordstream gas pipeline seems response g decision impose price cap russian oil ukrainerussiawar',\n",
              " ' vladimir putin decided russia need sell gas europe survive europe need russian gas way round putin traveled usual arrogance western hegemony good move putin good move georgegalloway rusembnigeria ',\n",
              " 'russian military man khaki region says intercepted conversation facing difficult situation standwithukraine ukraine ukrainian slavaukraini armukraine ukrainearmy war ukrainewar warcrimes ',\n",
              " 'two combat ukrainian aircraft super low altitude ukraine ukrainewar ukrainerussianwar ukrainewillwin ukraina ukrainianarmy ukrainerussiawar ',\n",
              " 'fresh losses command staff armed forces ukraine colonel andrew omelchenko lieutenant colonel alexander kapuchin ukraine russia ukrainerussia ukrainianarmy ',\n",
              " 'english shield watch fob st via topbananamall fab topbananaantiques dogsoftwitter antiquejewllery gardensoftwitter standwithukraine antiquesilver stopclimatechange antiquepictures celebritymasterchef gardenersworld',\n",
              " 'dankaszeta ukraine regardless training must much better russian troops get look recent results pack toilets washing machines anything else looted go home',\n",
              " 'ukraine army destroys bc warehouse temporarily occupied balakliya khaki region ukraine russiaisanazistate ',\n",
              " 'putin mystery limp russias president really dying putin health analysed russiaukraine nato war latest news putin russia ukraine nato russianarmy russian russian ukrainerussiawar ukrainewar russiaukrainewar ukrainianarmy ',\n",
              " 'kalimeralynn sophielouisecc russia losing get nato go stop war ukrainerussiawar lives go back normal victory unless lying haha',\n",
              " 'video likely person russian ukrainian sources claiming successful attack counteroffensive ',\n",
              " 'ukrainerussiawar september ukrainian forces th air assault brigade reportedly repelled russian attack captured several russian soldiers separate st motor rifle brigade several russian vehicles captured ukrainian forces breaking ',\n",
              " 'russianembassy mfarussia rusembusa rusmissioneu fcdogovuk pcworld skynews guardian telegraph financialtimes theeconomist absolutely right soon change power russia resembles something state values human beings return help putin gangster copies must leave including lvaro',\n",
              " 'may agent russian state traitor',\n",
              " 'ukrainerussiawar update ',\n",
              " ' media confirmation psychic predictions vladimirputin france accuses russia gas supply nordstream shutdown chief russian oil giant lukoil critical putin war dies falling hospital windows ebook ',\n",
              " 'forever dreaming russia saveukraine ',\n",
              " 'isis militants claim responsibility attack near russian embassy kabul kabul russia isis',\n",
              " 'alam dump ammo dump ukraine ukrainerussianwar russiaisaterroriststate',\n",
              " 'using ukraine fight proxywar russia nato potentially started ww war spread unless citizens vote warloving leaders ',\n",
              " 'stalinists post something wests military industrial complex wonder aware ration government spending military purposes russia technically largest army world overall living standard development countries',\n",
              " 'treaschest word may help thoughts slavaukraini',\n",
              " 'phillipspobrien wear sweater keep german nuclear plants open russia collapses upon stop russian tourist visas seize russian villas apartments country estates including hiding behind beneficial ownership structures slavaukraini',\n",
              " 'joe biden shirt joe hidden president th biden joe biden shirts biden riding unicorn biden blue unicorn forbidden shirts unicorn joe joebiden ridingunicornbiden biden plusminusco ',\n",
              " ' consumer discretionary stocks well represented early morning movers parish scan examples recommendations baba expr crop add dash pri lets see continue fall today risk aap russia ',\n",
              " 'magnifique ukraine born free ',\n",
              " ' air defense engaging aerial targets vinnytsia region ukrainerussiawar',\n",
              " 'coffee mexico produced russia due cheap electricity gas labor russia profitable shipping coffee brazil russia roast coffee send mexico profitable producing coffee mexico food ',\n",
              " ' announced liztruss new primeminister uk congratulations trussliz ukraine looks forward working liztruss lizforleader ',\n",
              " ' nd greater military power ass ',\n",
              " 'taliban regret blowing bamiyan buddha new government takes steps war terror islamicstate',\n",
              " 'laurenboebert cry river conmantrumps sons room searched one limits searching felontrump potentially selling secrets putin china adversaries',\n",
              " 'wallstreetsilv exactly now new pm wont stop verbal diarrhoeaif anything get worsegtto toriesout johnsonout standwithukraine rwandanotinmyname torysewageparty',\n",
              " 'ivan exodus possibly millions ukraine russia',\n",
              " 'using russian gas good climate climatecrisis ukrainerussiawar',\n",
              " 'breaking russian court jails reporter ivansafronov years treason afp moscow russia ']"
            ]
          },
          "metadata": {},
          "execution_count": 17
        }
      ],
      "source": [
        "rdd = rdd.map(cleantxt)\n",
        "rdd.take(50)"
      ]
    },
    {
      "cell_type": "code",
      "execution_count": 18,
      "id": "-H1CTRH-Bf81",
      "metadata": {
        "colab": {
          "base_uri": "https://localhost:8080/"
        },
        "id": "-H1CTRH-Bf81",
        "outputId": "49c4f463-8746-4abe-ba19-68f4ea434b1d"
      },
      "outputs": [
        {
          "output_type": "execute_result",
          "data": {
            "text/plain": [
              "[['ukrainian',\n",
              "  'president',\n",
              "  'volodymyr',\n",
              "  'zelenskyy',\n",
              "  'praised',\n",
              "  'work',\n",
              "  'ukrainian',\n",
              "  'air',\n",
              "  'force',\n",
              "  'downing',\n",
              "  'russian',\n",
              "  'caliber',\n",
              "  'cruise',\n",
              "  'missiles',\n",
              "  'helicopter',\n",
              "  'drones',\n",
              "  'vowed',\n",
              "  'fully',\n",
              "  'defend',\n",
              "  'ukraine',\n",
              "  'skies',\n",
              "  'enemy',\n",
              "  'missiles',\n",
              "  'aircraft'],\n",
              " ['support',\n",
              "  'ukraine',\n",
              "  'stop',\n",
              "  'war',\n",
              "  'slavaukraini',\n",
              "  'stoprussia',\n",
              "  'stopputin',\n",
              "  'putinwarcriminal',\n",
              "  'nft',\n",
              "  'nftcommunity',\n",
              "  'lgbtq',\n",
              "  'nftcollector',\n",
              "  'cryptoartist',\n",
              "  'nts',\n",
              "  'wezenaar',\n",
              "  'rickwezenaar',\n",
              "  ''],\n",
              " ['link',\n",
              "  'ooh',\n",
              "  'another',\n",
              "  'pedoputin',\n",
              "  'founder',\n",
              "  'russiaisaterroriststate',\n",
              "  'russiaisanazistate',\n",
              "  'nano'],\n",
              " ['ukrainian', 'military', 'ohne', 'person', 'region', ''],\n",
              " ['fuck',\n",
              "  'stock',\n",
              "  'laughing',\n",
              "  'terrorist',\n",
              "  'cia',\n",
              "  'fbi',\n",
              "  'nato',\n",
              "  'cop',\n",
              "  'cops',\n",
              "  'police',\n",
              "  'marines',\n",
              "  'army',\n",
              "  'airforce',\n",
              "  'navy',\n",
              "  'news',\n",
              "  'breakingnews',\n",
              "  'worldnews',\n",
              "  'freeman',\n",
              "  'freemasonry',\n",
              "  'freemasonry'],\n",
              " ['russia',\n",
              "  'present',\n",
              "  'next',\n",
              "  'week',\n",
              "  'geneva',\n",
              "  'documented',\n",
              "  'evidence',\n",
              "  'violations',\n",
              "  'us',\n",
              "  'ukraine',\n",
              "  'convention',\n",
              "  'bioweapons',\n",
              "  'russian',\n",
              "  'ministry',\n",
              "  'defense',\n",
              "  'says'],\n",
              " ['beautiful',\n",
              "  'mariupol',\n",
              "  'putin',\n",
              "  'justified',\n",
              "  'russiaterroriststate',\n",
              "  'visabanforrussians',\n",
              "  'russia',\n",
              "  'needs',\n",
              "  'pay',\n",
              "  'rebuild',\n",
              "  'returned',\n",
              "  'ukraine',\n",
              "  ''],\n",
              " ['oneillquigley',\n",
              "  'ruedaungier',\n",
              "  'jimfitzpatrick',\n",
              "  'sure',\n",
              "  'case',\n",
              "  'never',\n",
              "  'fought',\n",
              "  'british',\n",
              "  'empire',\n",
              "  'world',\n",
              "  'faced',\n",
              "  'hitler',\n",
              "  'naysayers',\n",
              "  'said',\n",
              "  'back',\n",
              "  'know',\n",
              "  'zelensky',\n",
              "  'churchill',\n",
              "  'collins',\n",
              "  'better',\n",
              "  'naysayers',\n",
              "  'hope',\n",
              "  'zelenskyy',\n",
              "  'wont',\n",
              "  'collins',\n",
              "  'accept',\n",
              "  'partition',\n",
              "  'ukraine'],\n",
              " ['stranger',\n",
              "  'ruizortiz',\n",
              "  'person',\n",
              "  'bornpink',\n",
              "  'not',\n",
              "  'clowns',\n",
              "  'see',\n",
              "  'standing',\n",
              "  'behind',\n",
              "  'bridge',\n",
              "  ''],\n",
              " ['apmassaro',\n",
              "  'mamulashvilim',\n",
              "  'georgianlegion',\n",
              "  'thank',\n",
              "  'georgianlegion',\n",
              "  'amazing',\n",
              "  'work',\n",
              "  'ukraine']]"
            ]
          },
          "metadata": {},
          "execution_count": 18
        }
      ],
      "source": [
        "rdd = rdd.map(lambda x: x.split(' ')) #\"tokenization\" (basket creation)\n",
        "rdd.take(10)"
      ]
    },
    {
      "cell_type": "code",
      "execution_count": 19,
      "id": "ZGzOqzE3S6Ha",
      "metadata": {
        "id": "ZGzOqzE3S6Ha"
      },
      "outputs": [],
      "source": [
        "def lem(res):\n",
        "  from nltk.corpus import wordnet\n",
        "  for i in range(len(res)):\n",
        "    res[i] = (nltk.pos_tag(res))[i]\n",
        "    wntag = get_wordnet_pos(res[i][1])\n",
        "    if wntag is None:  # don't supply tag in case of None\n",
        "      res[i] = lemma.lemmatize(res[i][0]) \n",
        "    else:\n",
        "      res[i] = lemma.lemmatize(res[i][0], pos = wntag)    \n",
        "    \n",
        "  res = list(filter(None,res)) #remove NA elements still in the baskets\n",
        "  return res"
      ]
    },
    {
      "cell_type": "code",
      "execution_count": 20,
      "id": "3ma-AgF6TiLs",
      "metadata": {
        "colab": {
          "base_uri": "https://localhost:8080/"
        },
        "id": "3ma-AgF6TiLs",
        "outputId": "d74133aa-88df-47a8-d9fa-13809df48332"
      },
      "outputs": [
        {
          "output_type": "execute_result",
          "data": {
            "text/plain": [
              "[['ukrainian',\n",
              "  'president',\n",
              "  'volodymyr',\n",
              "  'zelenskyy',\n",
              "  'praise',\n",
              "  'work',\n",
              "  'ukrainian',\n",
              "  'air',\n",
              "  'force',\n",
              "  'down',\n",
              "  'russian',\n",
              "  'caliber',\n",
              "  'cruise',\n",
              "  'missile',\n",
              "  'helicopter',\n",
              "  'drone',\n",
              "  'vow',\n",
              "  'fully',\n",
              "  'defend',\n",
              "  'ukraine',\n",
              "  'sky',\n",
              "  'enemy',\n",
              "  'missile',\n",
              "  'aircraft'],\n",
              " ['support',\n",
              "  'ukraine',\n",
              "  'stop',\n",
              "  'war',\n",
              "  'slavaukraini',\n",
              "  'stoprussia',\n",
              "  'stopputin',\n",
              "  'putinwarcriminal',\n",
              "  'nft',\n",
              "  'nftcommunity',\n",
              "  'lgbtq',\n",
              "  'nftcollector',\n",
              "  'cryptoartist',\n",
              "  'nt',\n",
              "  'wezenaar',\n",
              "  'rickwezenaar'],\n",
              " ['link',\n",
              "  'ooh',\n",
              "  'another',\n",
              "  'pedoputin',\n",
              "  'founder',\n",
              "  'russiaisaterroriststate',\n",
              "  'russiaisanazistate',\n",
              "  'nano'],\n",
              " ['ukrainian', 'military', 'ohne', 'person', 'region'],\n",
              " ['fuck',\n",
              "  'stock',\n",
              "  'laugh',\n",
              "  'terrorist',\n",
              "  'cia',\n",
              "  'fbi',\n",
              "  'nato',\n",
              "  'cop',\n",
              "  'cop',\n",
              "  'police',\n",
              "  'marine',\n",
              "  'army',\n",
              "  'airforce',\n",
              "  'navy',\n",
              "  'news',\n",
              "  'breakingnews',\n",
              "  'worldnews',\n",
              "  'freeman',\n",
              "  'freemasonry',\n",
              "  'freemasonry'],\n",
              " ['russia',\n",
              "  'present',\n",
              "  'next',\n",
              "  'week',\n",
              "  'geneva',\n",
              "  'document',\n",
              "  'evidence',\n",
              "  'violation',\n",
              "  'u',\n",
              "  'ukraine',\n",
              "  'convention',\n",
              "  'bioweapon',\n",
              "  'russian',\n",
              "  'ministry',\n",
              "  'defense',\n",
              "  'say'],\n",
              " ['beautiful',\n",
              "  'mariupol',\n",
              "  'putin',\n",
              "  'justified',\n",
              "  'russiaterroriststate',\n",
              "  'visabanforrussians',\n",
              "  'russia',\n",
              "  'need',\n",
              "  'pay',\n",
              "  'rebuild',\n",
              "  'return',\n",
              "  'ukraine'],\n",
              " ['oneillquigley',\n",
              "  'ruedaungier',\n",
              "  'jimfitzpatrick',\n",
              "  'sure',\n",
              "  'case',\n",
              "  'never',\n",
              "  'fight',\n",
              "  'british',\n",
              "  'empire',\n",
              "  'world',\n",
              "  'face',\n",
              "  'hitler',\n",
              "  'naysayer',\n",
              "  'say',\n",
              "  'back',\n",
              "  'know',\n",
              "  'zelensky',\n",
              "  'churchill',\n",
              "  'collins',\n",
              "  'good',\n",
              "  'naysayer',\n",
              "  'hope',\n",
              "  'zelenskyy',\n",
              "  'wont',\n",
              "  'collins',\n",
              "  'accept',\n",
              "  'partition',\n",
              "  'ukraine'],\n",
              " ['stranger',\n",
              "  'ruizortiz',\n",
              "  'person',\n",
              "  'bornpink',\n",
              "  'not',\n",
              "  'clown',\n",
              "  'see',\n",
              "  'stand',\n",
              "  'behind',\n",
              "  'bridge'],\n",
              " ['apmassaro',\n",
              "  'mamulashvilim',\n",
              "  'georgianlegion',\n",
              "  'thank',\n",
              "  'georgianlegion',\n",
              "  'amaze',\n",
              "  'work',\n",
              "  'ukraine']]"
            ]
          },
          "metadata": {},
          "execution_count": 20
        }
      ],
      "source": [
        "rdd = rdd.map(lem) #apply lemmatization\n",
        "rdd.cache()\n",
        "rdd.take(10)"
      ]
    },
    {
      "cell_type": "markdown",
      "id": "7223ac09",
      "metadata": {
        "id": "7223ac09"
      },
      "source": [
        "### Algorithm "
      ]
    },
    {
      "cell_type": "code",
      "execution_count": 21,
      "id": "48ddbbe8",
      "metadata": {
        "id": "48ddbbe8"
      },
      "outputs": [],
      "source": [
        "# a priori implementation; phase 1\n",
        "# count frequency of each item (word) #WARNING: this function is extremly slow in a local setting\n",
        "\n",
        "def count_freq(rdd):\n",
        "    return (rdd.flatMap(lambda x: x)\n",
        "            .map(lambda word: (word, 1)).\n",
        "            reduceByKey(lambda a,b: a+b))\n",
        "            "
      ]
    },
    {
      "cell_type": "code",
      "execution_count": 22,
      "id": "3362da4e",
      "metadata": {
        "colab": {
          "base_uri": "https://localhost:8080/"
        },
        "id": "3362da4e",
        "outputId": "eb3151a9-b029-45db-9cd1-3a5b0cbf0c2c"
      },
      "outputs": [
        {
          "output_type": "execute_result",
          "data": {
            "text/plain": [
              "[('ukrainian', 59),\n",
              " ('volodymyr', 2),\n",
              " ('zelenskyy', 6),\n",
              " ('praise', 2),\n",
              " ('work', 19),\n",
              " ('down', 2),\n",
              " ('missile', 7),\n",
              " ('helicopter', 2),\n",
              " ('vow', 1),\n",
              " ('defend', 8)]"
            ]
          },
          "metadata": {},
          "execution_count": 22
        }
      ],
      "source": [
        "freq = count_freq(rdd) #all words frequencies\n",
        "freq.take(10)"
      ]
    },
    {
      "cell_type": "code",
      "source": [
        "unique_words = freq.map(lambda x : x[0])\n",
        "unique_words.cache()#rdd with all words in corpus\n",
        "unique_words.take(10)"
      ],
      "metadata": {
        "colab": {
          "base_uri": "https://localhost:8080/"
        },
        "id": "SUWsb1c9MkUp",
        "outputId": "3ae926a0-d0c8-4c21-c38a-9ff55fb9bdb3"
      },
      "id": "SUWsb1c9MkUp",
      "execution_count": 23,
      "outputs": [
        {
          "output_type": "execute_result",
          "data": {
            "text/plain": [
              "['ukrainian',\n",
              " 'volodymyr',\n",
              " 'zelenskyy',\n",
              " 'praise',\n",
              " 'work',\n",
              " 'down',\n",
              " 'missile',\n",
              " 'helicopter',\n",
              " 'vow',\n",
              " 'defend']"
            ]
          },
          "metadata": {},
          "execution_count": 23
        }
      ]
    },
    {
      "cell_type": "code",
      "execution_count": 24,
      "id": "b8f4a216",
      "metadata": {
        "colab": {
          "base_uri": "https://localhost:8080/"
        },
        "id": "b8f4a216",
        "outputId": "9fe897fe-ba8c-4841-bf37-9f643ef0c8fb"
      },
      "outputs": [
        {
          "output_type": "execute_result",
          "data": {
            "text/plain": [
              "[('ukrainian', 59),\n",
              " ('russiaisaterroriststate', 25),\n",
              " ('person', 35),\n",
              " ('nato', 29),\n",
              " ('say', 47),\n",
              " ('putin', 66),\n",
              " ('ukrainerussiawar', 43),\n",
              " ('europe', 28),\n",
              " ('standwithukraine', 30),\n",
              " ('russian', 139)]"
            ]
          },
          "metadata": {},
          "execution_count": 24
        }
      ],
      "source": [
        "def threshold(x): \n",
        "    return True if x[1] >= 25 else False #we define the threshold at 5% (25 for 500 tweets, 2200 for 44000)\n",
        "tab = freq.filter(threshold)\n",
        "tab.take(10) #most frequent words and corresponding frequences"
      ]
    },
    {
      "cell_type": "code",
      "execution_count": 25,
      "id": "f9f07b57",
      "metadata": {
        "id": "f9f07b57"
      },
      "outputs": [],
      "source": [
        "def count_comb(x): #define function to identify combinations'presence in the baskets\n",
        "    y=list(\"a\"*len(x[1]))\n",
        "    for i in range(len(x[1])):\n",
        "        if x[1][i] not in x[0]:\n",
        "            continue\n",
        "        else:\n",
        "            y[i]=x[1][i]\n",
        "            \n",
        "    if \"a\" not in y:\n",
        "        return tuple(y)\n",
        "    else:\n",
        "        return None"
      ]
    },
    {
      "cell_type": "code",
      "execution_count": 26,
      "id": "5f28c729",
      "metadata": {
        "id": "5f28c729"
      },
      "outputs": [],
      "source": [
        "def unpack(tup): #define function to unpack previously formed combinations for processing\n",
        "    t=tuple()\n",
        "    for x in tup:\n",
        "        if not type(x) == list:\n",
        "            t += (x,)\n",
        "        else:\n",
        "            t +=(*x,)\n",
        "    return t"
      ]
    },
    {
      "cell_type": "code",
      "source": [
        "def removeReplica(record): #define function to remove permutations of a combination\n",
        "    lt = []\n",
        "    for i in record:\n",
        "        if i not in lt:\n",
        "            lt.append(i)\n",
        "    lt.sort() #sort tuples for later distinct\n",
        "    result = tuple(lt)\n",
        "    return result "
      ],
      "metadata": {
        "id": "f_EKdxqX3cRp"
      },
      "id": "f_EKdxqX3cRp",
      "execution_count": 27,
      "outputs": []
    },
    {
      "cell_type": "code",
      "execution_count": 28,
      "id": "a9f811b9",
      "metadata": {
        "id": "a9f811b9"
      },
      "outputs": [],
      "source": [
        "b=2\n",
        "c=2\n",
        "d=1\n",
        "tab2 = tab\n",
        "tab2.cache()\n",
        "while(tab2.isEmpty() == False):\n",
        "\n",
        "    tab_words = tab2.map(lambda x : x[0]) #collect combinations of frequent words of recurrently created frequency tables\n",
        "    while b >= 3:\n",
        "      tab_words = tab_words.map(lambda x : [x[i] for i in range(len(x))]) #convert previous combinations (tuples) into modifiable lists to add the next word as part of the same object\n",
        "      break\n",
        "    tab_words.cache()\n",
        "    combined = unique_words.cartesian(tab_words) #create all possible combinations with words in the table created in the previous iteration\n",
        "    while b >= 3:\n",
        "      combined = combined.map(unpack) #add the next word to the combination\n",
        "      break\n",
        "    combined.cache()\n",
        "    combined = combined.map(removeReplica) #remove duplicates and permutations\n",
        "    combined = combined.distinct()\n",
        "    combined.cache()\n",
        "    combined = combined.filter(lambda x: len(x) == c)\n",
        "    combined.cache()\n",
        "    combined_2 = rdd.cartesian(combined) # build the confront table: here each of the combinations of frequent words are associated to each basket\n",
        "    combined_2.cache()\n",
        "    combined_2 = combined_2.map(count_comb) #retain combinations if they appear in at least a basket\n",
        "    combined_2.cache()\n",
        "    combined_2 = combined_2.filter(lambda x : x is not None) #clean output of previous step\n",
        "    combined_2.cache()\n",
        "    combined_2 = combined_2.map(lambda x: (x , 1)) #assign the counters to the combinations\n",
        "    combined_2.cache()\n",
        "    combined_2 = combined_2.reduceByKey(lambda a,b: a+b) #count the frequency of the combinations\n",
        "    combined_2.cache()\n",
        "    combined_2 = combined_2.filter(lambda x: x[1] >= 25) #retain only frequent combinations\n",
        "    combined_2.cache()\n",
        "\n",
        "    while d == 1:\n",
        "        result = combined_2\n",
        "        d +=1\n",
        "    result = result.union(combined_2).distinct() #create the output table\n",
        "    result.cache() \n",
        "    tab2 = combined_2 #initialize the next table\n",
        "    tab2.cache()\n",
        "    c += 1\n",
        "    b += 1 "
      ]
    },
    {
      "cell_type": "code",
      "source": [
        "result_list = result.collect()\n",
        "result_list"
      ],
      "metadata": {
        "colab": {
          "base_uri": "https://localhost:8080/"
        },
        "id": "iZ_X0B2kFsCL",
        "outputId": "609c66ef-8a43-456b-b976-a68738c5f8b9"
      },
      "id": "iZ_X0B2kFsCL",
      "execution_count": 29,
      "outputs": [
        {
          "output_type": "execute_result",
          "data": {
            "text/plain": [
              "[(('ukraine', 'ukrainian'), 31),\n",
              " (('russia', 'russian'), 40),\n",
              " (('putin', 'russia'), 29),\n",
              " (('russia', 'ukraine'), 59),\n",
              " (('ukraine', 'war'), 32),\n",
              " (('russian', 'ukraine'), 52)]"
            ]
          },
          "metadata": {},
          "execution_count": 29
        }
      ]
    },
    {
      "cell_type": "code",
      "source": [
        "interest=[]\n",
        "for tupl in result_list:\n",
        "  support_I_j = tupl[1] #get support of I U j\n",
        "  for y in tupl[0]: \n",
        "    j = y \n",
        "    support_j = tab.filter(lambda x: (x[0] == \"{}\".format(j))).collect()[0][1] #get support of j\n",
        "    full = [word for word in tupl[0]]\n",
        "    full.remove(\"{}\".format(y)) #get support of I\n",
        "    I = full \n",
        "    if len(I) == 1:\n",
        "      I = I[0]\n",
        "      support_I = tab.filter(lambda x: (x[0] == \"{}\".format(I))).collect()[0][1]\n",
        "    else:\n",
        "      I = tuple(I)\n",
        "      support_I = result.filter(lambda x: x[0] == I).collect()[0][1]\n",
        "\n",
        "    confidence = (support_I_j / support_I)\n",
        "    number = confidence - (support_j / len(rdd.collect()))\n",
        "    temp = [I,j,confidence,number]\n",
        "    interest.append(tuple(temp))"
      ],
      "metadata": {
        "id": "EODALmx_SfoR"
      },
      "id": "EODALmx_SfoR",
      "execution_count": 30,
      "outputs": []
    },
    {
      "cell_type": "code",
      "source": [
        "interest #first term (or first tuple) is the I, second term is the j, first number is the confidence and last number is the interest"
      ],
      "metadata": {
        "id": "GztvL4NAsLnV",
        "outputId": "e2c3a50d-73e2-4676-ba83-8a141d434f8b",
        "colab": {
          "base_uri": "https://localhost:8080/"
        }
      },
      "id": "GztvL4NAsLnV",
      "execution_count": 31,
      "outputs": [
        {
          "output_type": "execute_result",
          "data": {
            "text/plain": [
              "[('ukrainian', 'ukraine', 0.5254237288135594, 0.09742372881355937),\n",
              " ('ukraine', 'ukrainian', 0.14485981308411214, 0.026859813084112144),\n",
              " ('russian', 'russia', 0.28776978417266186, -0.06823021582733813),\n",
              " ('russia', 'russian', 0.2247191011235955, -0.053280898876404525),\n",
              " ('russia', 'putin', 0.16292134831460675, 0.030921348314606745),\n",
              " ('putin', 'russia', 0.4393939393939394, 0.08339393939393941),\n",
              " ('ukraine', 'russia', 0.2757009345794392, -0.08029906542056076),\n",
              " ('russia', 'ukraine', 0.33146067415730335, -0.09653932584269664),\n",
              " ('war', 'ukraine', 0.5245901639344263, 0.09659016393442627),\n",
              " ('ukraine', 'war', 0.14953271028037382, 0.027532710280373823),\n",
              " ('ukraine', 'russian', 0.24299065420560748, -0.03500934579439255),\n",
              " ('russian', 'ukraine', 0.37410071942446044, -0.053899280575539554)]"
            ]
          },
          "metadata": {},
          "execution_count": 31
        }
      ]
    }
  ],
  "metadata": {
    "colab": {
      "collapsed_sections": [],
      "provenance": [],
      "include_colab_link": true
    },
    "kernelspec": {
      "display_name": "Python 3 (ipykernel)",
      "language": "python",
      "name": "python3"
    },
    "language_info": {
      "codemirror_mode": {
        "name": "ipython",
        "version": 3
      },
      "file_extension": ".py",
      "mimetype": "text/x-python",
      "name": "python",
      "nbconvert_exporter": "python",
      "pygments_lexer": "ipython3",
      "version": "3.9.13"
    }
  },
  "nbformat": 4,
  "nbformat_minor": 5
}